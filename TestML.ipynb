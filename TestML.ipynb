{
 "cells": [
  {
   "cell_type": "code",
   "execution_count": 5,
   "id": "f39f02a6-0804-41ec-b23b-8ee5f3ecdd44",
   "metadata": {},
   "outputs": [],
   "source": [
    "#Notebook for practice and learning ML!!"
   ]
  },
  {
   "cell_type": "code",
   "execution_count": null,
   "id": "1321df72-5bec-44d9-8b8b-8a3677987545",
   "metadata": {},
   "outputs": [],
   "source": []
  }
 ],
 "metadata": {
  "kernelspec": {
   "display_name": "Python 3 (ipykernel)",
   "language": "python",
   "name": "python3"
  },
  "language_info": {
   "codemirror_mode": {
    "name": "ipython",
    "version": 3
   },
   "file_extension": ".py",
   "mimetype": "text/x-python",
   "name": "python",
   "nbconvert_exporter": "python",
   "pygments_lexer": "ipython3",
   "version": "3.11.8"
  }
 },
 "nbformat": 4,
 "nbformat_minor": 5
}
